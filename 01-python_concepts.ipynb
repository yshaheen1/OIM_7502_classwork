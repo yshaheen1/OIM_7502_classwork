{
 "cells": [
  {
   "cell_type": "markdown",
   "id": "9383bafa",
   "metadata": {},
   "source": [
    "### Python Programming Concepts"
   ]
  },
  {
   "cell_type": "markdown",
   "id": "17df7d6e",
   "metadata": {},
   "source": [
    "#### 1. Create a variable to store the value 500 for sales"
   ]
  },
  {
   "cell_type": "code",
   "execution_count": 1,
   "id": "a5f43c2f",
   "metadata": {},
   "outputs": [
    {
     "name": "stdout",
     "output_type": "stream",
     "text": [
      "500\n"
     ]
    }
   ],
   "source": [
    "sales = 500\n",
    "print(sales)"
   ]
  },
  {
   "cell_type": "markdown",
   "id": "6dc8b9ea",
   "metadata": {},
   "source": [
    "#### 2. Create a variable to store several values:  \n",
    "* sales: 500, 475, 625\n",
    "* integers 1 - 9 "
   ]
  },
  {
   "cell_type": "code",
   "execution_count": 3,
   "id": "902fe3bd",
   "metadata": {},
   "outputs": [
    {
     "name": "stdout",
     "output_type": "stream",
     "text": [
      "[500, 475, 625]\n"
     ]
    }
   ],
   "source": [
    "sales_list = [500,475,625]\n",
    "print(sales_list)"
   ]
  },
  {
   "cell_type": "code",
   "execution_count": 6,
   "id": "bbc89976-1dc6-4515-8b0e-0e305b948f87",
   "metadata": {},
   "outputs": [
    {
     "name": "stdout",
     "output_type": "stream",
     "text": [
      "[1, 2, 3, 4, 5, 6, 7, 8, 9]\n"
     ]
    }
   ],
   "source": [
    "integers = list(range(1,10))\n",
    "print(integers)"
   ]
  },
  {
   "cell_type": "markdown",
   "id": "62e55953",
   "metadata": {},
   "source": [
    "#### 3. Create a variable to store the names and email addresses for a number of customers\n",
    "* John, john@some.com; Ann, ann@some.com"
   ]
  },
  {
   "cell_type": "code",
   "execution_count": 41,
   "id": "03f2b161",
   "metadata": {},
   "outputs": [
    {
     "name": "stdout",
     "output_type": "stream",
     "text": [
      "{'John': 'john@some.com', 'Ann': 'ann@some.com'}\n",
      "john@some.com\n"
     ]
    }
   ],
   "source": [
    "customers = {\"John\": \"john@some.com\",\n",
    "    \"Ann\": \"ann@some.com\"}\n",
    "print(customers)\n",
    "print(customers[\"John\"])"
   ]
  },
  {
   "cell_type": "markdown",
   "id": "d6b1e8c6",
   "metadata": {},
   "source": [
    "#### 4. Use Python to generate a random value based on each of following:\n",
    "1. between 0 and 1\n",
    "2. the standard normal distribution (rounded to two decimal places)\n",
    "3. a value between 1 and 10\n",
    "4. either H or T"
   ]
  },
  {
   "cell_type": "code",
   "execution_count": 6,
   "id": "f004d7b5",
   "metadata": {},
   "outputs": [],
   "source": [
    "import random"
   ]
  },
  {
   "cell_type": "code",
   "execution_count": 7,
   "id": "a8efc6fc",
   "metadata": {},
   "outputs": [],
   "source": [
    "import numpy as np"
   ]
  },
  {
   "cell_type": "code",
   "execution_count": 8,
   "id": "f20b6134-2d52-4465-a867-e7b69e9a9d94",
   "metadata": {},
   "outputs": [
    {
     "name": "stdout",
     "output_type": "stream",
     "text": [
      "0.9151892811413578\n"
     ]
    }
   ],
   "source": [
    "print(random.random())"
   ]
  },
  {
   "cell_type": "code",
   "execution_count": 9,
   "id": "3a150c3e",
   "metadata": {},
   "outputs": [
    {
     "name": "stdout",
     "output_type": "stream",
     "text": [
      "1.6\n"
     ]
    }
   ],
   "source": [
    "print(round(np.random.randn(), 2))"
   ]
  },
  {
   "cell_type": "code",
   "execution_count": 10,
   "id": "f80f4b3b",
   "metadata": {},
   "outputs": [
    {
     "name": "stdout",
     "output_type": "stream",
     "text": [
      "7\n"
     ]
    }
   ],
   "source": [
    "print(random.randint(1, 10)) "
   ]
  },
  {
   "cell_type": "code",
   "execution_count": 11,
   "id": "bdb52b86",
   "metadata": {},
   "outputs": [
    {
     "name": "stdout",
     "output_type": "stream",
     "text": [
      "H\n"
     ]
    }
   ],
   "source": [
    "print(random.choice([\"H\", \"T\"])) "
   ]
  },
  {
   "cell_type": "markdown",
   "id": "7eddf06a",
   "metadata": {},
   "source": [
    "#### 5. Use Python to determine your current working directory"
   ]
  },
  {
   "cell_type": "code",
   "execution_count": 12,
   "id": "d8f79474",
   "metadata": {},
   "outputs": [
    {
     "name": "stdout",
     "output_type": "stream",
     "text": [
      "C:\\Users\\yshah\\Documents\\OIM7502_F25\n"
     ]
    }
   ],
   "source": [
    "from pathlib import Path\n",
    "\n",
    "print(Path.cwd())"
   ]
  },
  {
   "cell_type": "markdown",
   "id": "fc43ec50",
   "metadata": {},
   "source": [
    "#### 6. Use Python to determine how many days until New Year's Day"
   ]
  },
  {
   "cell_type": "code",
   "execution_count": 14,
   "id": "13f630fe",
   "metadata": {},
   "outputs": [
    {
     "name": "stdout",
     "output_type": "stream",
     "text": [
      "114\n"
     ]
    }
   ],
   "source": [
    "from datetime import date\n",
    "print((date(date.today().year + 1, 1, 1) - date.today()).days)"
   ]
  },
  {
   "cell_type": "markdown",
   "id": "2ba4ea92",
   "metadata": {},
   "source": [
    "#### 7. Write a short program that displays the future value of 1,000 earning 5%  at the end of each year for the next 5 years"
   ]
  },
  {
   "cell_type": "code",
   "execution_count": 19,
   "id": "6fef4a8c",
   "metadata": {},
   "outputs": [
    {
     "name": "stdout",
     "output_type": "stream",
     "text": [
      "Year 1 : 1050.0\n",
      "Year 2 : 1102.5\n",
      "Year 3 : 1157.63\n",
      "Year 4 : 1215.51\n",
      "Year 5 : 1276.28\n"
     ]
    }
   ],
   "source": [
    "pv = 1000       \n",
    "rate = 0.05    \n",
    "\n",
    "for year in range(1, 6):  \n",
    "    fv = pv * (1 + rate) ** year\n",
    "    print(\"Year\", year, \":\", round(fv, 2))"
   ]
  },
  {
   "cell_type": "markdown",
   "id": "150201c8",
   "metadata": {},
   "source": [
    "#### 8. Write a short program that prompts a user to enter a stock symbol and press enter. Add each symbol entered to a variable. The program should run until the user presses the enter key without entering anything (empty string) "
   ]
  },
  {
   "cell_type": "code",
   "execution_count": null,
   "id": "931a346f",
   "metadata": {},
   "outputs": [],
   "source": [
    "\"I couldn't get this to work\""
   ]
  },
  {
   "cell_type": "markdown",
   "id": "fc2a7592",
   "metadata": {},
   "source": [
    "#### 9. Write the code necessary to calculate the sum of the square differences of a group of values : \n",
    "58, 32, 37, 41, 36, 36, 54, 37, 25, 53\n",
    "##### $\\Sigma $(${x}$ - $\\bar{x}$)$^2$"
   ]
  },
  {
   "cell_type": "code",
   "execution_count": 22,
   "id": "13d9a6c5",
   "metadata": {},
   "outputs": [
    {
     "name": "stdout",
     "output_type": "stream",
     "text": [
      "Mean: 40.9\n",
      "Sum of the squared differences: 1020.9\n"
     ]
    }
   ],
   "source": [
    "values = [58, 32, 37, 41, 36, 36, 54, 37, 25, 53]\n",
    "\n",
    "mean_values = sum(values) / len(values)\n",
    "ssd = sum((x - mean_values) ** 2 for x in values)\n",
    "\n",
    "print(\"Mean:\", mean_values)\n",
    "print(\"Sum of the squared differences:\", ssd)"
   ]
  },
  {
   "cell_type": "markdown",
   "id": "6d6f2e64",
   "metadata": {},
   "source": [
    "#### 10. Opening, reading and writing files"
   ]
  },
  {
   "cell_type": "code",
   "execution_count": null,
   "id": "f7fa569d",
   "metadata": {},
   "outputs": [],
   "source": [
    "\"I couldn't get this to work\""
   ]
  },
  {
   "cell_type": "markdown",
   "id": "eec548d6",
   "metadata": {},
   "source": [
    "#### 11. Create a function the will simulate rolling two die and return the value of each and and the sum "
   ]
  },
  {
   "cell_type": "code",
   "execution_count": 28,
   "id": "bb115cdc",
   "metadata": {},
   "outputs": [
    {
     "name": "stdout",
     "output_type": "stream",
     "text": [
      "(4, 5, 9)\n"
     ]
    }
   ],
   "source": [
    "import random\n",
    "\n",
    "def roll_two_dice():\n",
    "    die1 = random.randint(1, 6)  # roll first die\n",
    "    die2 = random.randint(1, 6)  # roll second die\n",
    "    total = die1 + die2\n",
    "    return die1, die2, total\n",
    "\n",
    "print(roll_two_dice())"
   ]
  },
  {
   "cell_type": "markdown",
   "id": "21556d7f",
   "metadata": {},
   "source": [
    "#### 12. Write the code needed to evaluate whether a value in a group of values is negative or postive and prints an approriate message, i.e. postive, negative \n",
    "-1.59, 2.36, 1.69, 1.13, -0.91, 1.48, -0.34, 1.31, -0.74, 0.2"
   ]
  },
  {
   "cell_type": "code",
   "execution_count": 29,
   "id": "d6c38ecb",
   "metadata": {},
   "outputs": [
    {
     "name": "stdout",
     "output_type": "stream",
     "text": [
      "-1.59 is negative\n",
      "2.36 is positive\n",
      "1.69 is positive\n",
      "1.13 is positive\n",
      "-0.91 is negative\n",
      "1.48 is positive\n",
      "-0.34 is negative\n",
      "1.31 is positive\n",
      "-0.74 is negative\n",
      "0.2 is positive\n"
     ]
    }
   ],
   "source": [
    "values = [-1.59, 2.36, 1.69, 1.13, -0.91, 1.48, -0.34, 1.31, -0.74, 0.2]\n",
    "\n",
    "for v in values:\n",
    "    if v > 0:\n",
    "        print(v, \"is positive\")\n",
    "    elif v < 0:\n",
    "        print(v, \"is negative\")\n",
    "    else:\n",
    "        print(v, \"is zero\")"
   ]
  },
  {
   "cell_type": "code",
   "execution_count": null,
   "id": "aaefba17",
   "metadata": {},
   "outputs": [],
   "source": []
  },
  {
   "cell_type": "markdown",
   "id": "8cafe65c",
   "metadata": {},
   "source": [
    "#### 14.  Complete the following:\n",
    "1. Write a program that generates 500 random integers from 1 to n, for example, the first integer will be 1 the second will be 1 or 2, the fifth between 1 and 5, and so on.\n",
    "2. The program should write each integer to a file \n",
    "3. Once all integers are written close the file\n",
    "\n",
    "##### Part 2\n",
    "1. Open and read the file into a list\n",
    "2. Create a line plot of the data"
   ]
  },
  {
   "cell_type": "code",
   "execution_count": 22,
   "id": "60a910bb",
   "metadata": {},
   "outputs": [],
   "source": [
    "\"I couldn't get this to work\""
   ]
  },
  {
   "cell_type": "code",
   "execution_count": 24,
   "id": "d6b4180c",
   "metadata": {},
   "outputs": [],
   "source": []
  },
  {
   "cell_type": "code",
   "execution_count": null,
   "id": "adb6aa11",
   "metadata": {},
   "outputs": [],
   "source": []
  },
  {
   "cell_type": "code",
   "execution_count": null,
   "id": "6745da79",
   "metadata": {},
   "outputs": [],
   "source": []
  },
  {
   "cell_type": "code",
   "execution_count": null,
   "id": "21140445",
   "metadata": {},
   "outputs": [],
   "source": []
  },
  {
   "cell_type": "code",
   "execution_count": null,
   "id": "3d546600",
   "metadata": {},
   "outputs": [],
   "source": []
  }
 ],
 "metadata": {
  "kernelspec": {
   "display_name": "Python 3 (ipykernel)",
   "language": "python",
   "name": "python3"
  },
  "language_info": {
   "codemirror_mode": {
    "name": "ipython",
    "version": 3
   },
   "file_extension": ".py",
   "mimetype": "text/x-python",
   "name": "python",
   "nbconvert_exporter": "python",
   "pygments_lexer": "ipython3",
   "version": "3.12.7"
  }
 },
 "nbformat": 4,
 "nbformat_minor": 5
}
